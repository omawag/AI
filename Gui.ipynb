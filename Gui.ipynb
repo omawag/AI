{
 "cells": [
  {
   "cell_type": "code",
   "execution_count": 1,
   "id": "095d0fbf",
   "metadata": {},
   "outputs": [],
   "source": [
    "from tkinter import *\n",
    "import pandas as pd\n",
    "import numpy as np\n",
    "import matplotlib.pyplot as plt\n",
    "import warnings\n",
    "warnings.filterwarnings('ignore')\n",
    "from sklearn.model_selection import train_test_split\n",
    "from sklearn.metrics import confusion_matrix, f1_score, accuracy_score\n",
    "import tensorflow as tf\n",
    "from tensorflow import keras\n",
    "from tensorflow.keras import Sequential\n",
    "from tensorflow.keras import layers\n",
    "from tensorflow.keras import utils\n",
    "from tensorflow.keras.layers import Dense,Flatten\n",
    "from sklearn.preprocessing import LabelEncoder, OneHotEncoder\n",
    "import cv2\n",
    "import seaborn as sn\n",
    "import joblib as jb"
   ]
  },
  {
   "cell_type": "code",
   "execution_count": 2,
   "id": "c7cd698c",
   "metadata": {},
   "outputs": [],
   "source": [
    "df_train = pd.read_csv('train.csv' , header=None)\n",
    "char_map = pd.read_csv('mappings.txt' , delimiter=' ', header=None , index_col=0 , squeeze=True)"
   ]
  },
  {
   "cell_type": "code",
   "execution_count": 3,
   "id": "0cc761f2",
   "metadata": {},
   "outputs": [],
   "source": [
    "label_dictionary = {}\n",
    "for index, label in enumerate(char_map):\n",
    "    label_dictionary[index] = chr(label)"
   ]
  },
  {
   "cell_type": "code",
   "execution_count": 4,
   "id": "371f314a",
   "metadata": {},
   "outputs": [],
   "source": [
    "model=keras.models.load_model(\"C:/Users/Omar Atef/Ai project\")"
   ]
  },
  {
   "cell_type": "code",
   "execution_count": null,
   "id": "d2a76991",
   "metadata": {},
   "outputs": [
    {
     "name": "stdout",
     "output_type": "stream",
     "text": [
      "1/1 [==============================] - 0s 206ms/step\n",
      "Predicted A\n",
      "1/1 [==============================] - 0s 17ms/step\n",
      "Predicted M\n",
      "1/1 [==============================] - 0s 16ms/step\n",
      "Predicted Q\n",
      "1/1 [==============================] - 0s 16ms/step\n",
      "Predicted M\n"
     ]
    }
   ],
   "source": [
    "from tkinter import *\n",
    "import PIL\n",
    "from PIL import Image, ImageDraw\n",
    "\n",
    "    \n",
    "def predict():\n",
    "    \n",
    "    global imagenumber ,label\n",
    "    filename = f'f.png'  \n",
    "    image1.save(filename)\n",
    "    img = cv2.imread('f.png')\n",
    "    gray = cv2.cvtColor(img , cv2.COLOR_BGR2GRAY)\n",
    "    resized_img = cv2.resize(gray , (28,28) , interpolation = cv2.INTER_AREA)\n",
    "    resized_img = resized_img.reshape(-1,28,28,1)\n",
    "    y_pred_samp = model.predict(resized_img)\n",
    "    print(\"Predicted \" + label_dictionary[ ( y_pred_samp[0].argmax() ) ]  )\n",
    "    label.config(text=\"Predicted \" + label_dictionary[ ( y_pred_samp[0].argmax() ) ]  )\n",
    "    label.pack()\n",
    "    \n",
    "\n",
    "def activate_paint(e):\n",
    "    global lastx, lasty\n",
    "    cv.bind('<B1-Motion>', paint)\n",
    "    lastx, lasty = e.x, e.y\n",
    "\n",
    "\n",
    "def paint(e):\n",
    "    global lastx, lasty\n",
    "    x, y = e.x, e.y\n",
    "    cv.create_line((lastx, lasty, x, y),fill='white', width=20)\n",
    "    #  --- PIL\n",
    "    draw.line((lastx, lasty, x, y), fill='white', width=10)\n",
    "    lastx, lasty = x, y\n",
    "\n",
    "def reset():\n",
    "    global image1 , draw, label\n",
    "    cv.delete(\"all\")\n",
    "    image1 = PIL.Image.new('RGB', (140, 140), 'black')\n",
    "    draw = ImageDraw.Draw(image1)\n",
    "    label.config(text=\"please draw again \" )\n",
    "    label.pack()\n",
    "\n",
    "\n",
    "root = Tk()\n",
    "\n",
    "lastx, lasty = None, None\n",
    "image_number = 0\n",
    "\n",
    "cv = Canvas(root, width=140, height=140, bg='black')\n",
    "# --- PIL\n",
    "image1 = PIL.Image.new('RGB', (140, 140), 'black')\n",
    "draw = ImageDraw.Draw(image1)\n",
    "\n",
    "cv.bind('<1>', activate_paint)\n",
    "cv.pack(expand=YES, fill=BOTH)\n",
    "\n",
    "btn_predict = Button(text=\"predict\", command=predict)\n",
    "btn_predict.pack()\n",
    "btn_reset = Button(text=\"reset\", command=reset)\n",
    "btn_reset.pack()\n",
    "label=Label(text=\"please draw your letter \" )\n",
    "label.pack()\n",
    "\n",
    "root.mainloop()"
   ]
  },
  {
   "cell_type": "code",
   "execution_count": null,
   "id": "e8805663",
   "metadata": {},
   "outputs": [],
   "source": []
  }
 ],
 "metadata": {
  "kernelspec": {
   "display_name": "Python 3 (ipykernel)",
   "language": "python",
   "name": "python3"
  },
  "language_info": {
   "codemirror_mode": {
    "name": "ipython",
    "version": 3
   },
   "file_extension": ".py",
   "mimetype": "text/x-python",
   "name": "python",
   "nbconvert_exporter": "python",
   "pygments_lexer": "ipython3",
   "version": "3.9.13"
  }
 },
 "nbformat": 4,
 "nbformat_minor": 5
}
